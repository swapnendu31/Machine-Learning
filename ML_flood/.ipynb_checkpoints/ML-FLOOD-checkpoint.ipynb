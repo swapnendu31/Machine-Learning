{
 "cells": [
  {
   "cell_type": "code",
   "execution_count": 133,
   "id": "9aee6261",
   "metadata": {},
   "outputs": [],
   "source": [
    "from sklearn.preprocessing import StandardScaler\n",
    "from sklearn.preprocessing import LabelEncoder\n",
    "from sklearn.linear_model import LogisticRegression\n",
    "from sklearn.model_selection import train_test_split\n",
    "from sklearn.metrics import accuracy_score\n",
    "import matplotlib.pyplot as plt\n",
    "import seaborn as sns\n",
    "import numpy as np\n",
    "import pandas as pd"
   ]
  },
  {
   "cell_type": "code",
   "execution_count": 107,
   "id": "2f57d14c",
   "metadata": {
    "scrolled": true
   },
   "outputs": [
    {
     "data": {
      "text/html": [
       "<div>\n",
       "<style scoped>\n",
       "    .dataframe tbody tr th:only-of-type {\n",
       "        vertical-align: middle;\n",
       "    }\n",
       "\n",
       "    .dataframe tbody tr th {\n",
       "        vertical-align: top;\n",
       "    }\n",
       "\n",
       "    .dataframe thead th {\n",
       "        text-align: right;\n",
       "    }\n",
       "</style>\n",
       "<table border=\"1\" class=\"dataframe\">\n",
       "  <thead>\n",
       "    <tr style=\"text-align: right;\">\n",
       "      <th></th>\n",
       "      <th>SUBDIVISION</th>\n",
       "      <th>YEAR</th>\n",
       "      <th>JAN</th>\n",
       "      <th>FEB</th>\n",
       "      <th>MAR</th>\n",
       "      <th>APR</th>\n",
       "      <th>MAY</th>\n",
       "      <th>JUN</th>\n",
       "      <th>JUL</th>\n",
       "      <th>AUG</th>\n",
       "      <th>SEP</th>\n",
       "      <th>OCT</th>\n",
       "      <th>NOV</th>\n",
       "      <th>DEC</th>\n",
       "      <th>ANNUAL RAINFALL</th>\n",
       "      <th>FLOODS</th>\n",
       "    </tr>\n",
       "  </thead>\n",
       "  <tbody>\n",
       "    <tr>\n",
       "      <th>0</th>\n",
       "      <td>KERALA</td>\n",
       "      <td>1901</td>\n",
       "      <td>28.7</td>\n",
       "      <td>44.7</td>\n",
       "      <td>51.6</td>\n",
       "      <td>160.0</td>\n",
       "      <td>174.7</td>\n",
       "      <td>824.6</td>\n",
       "      <td>743.0</td>\n",
       "      <td>357.5</td>\n",
       "      <td>197.7</td>\n",
       "      <td>266.9</td>\n",
       "      <td>350.8</td>\n",
       "      <td>48.4</td>\n",
       "      <td>3248.6</td>\n",
       "      <td>YES</td>\n",
       "    </tr>\n",
       "    <tr>\n",
       "      <th>1</th>\n",
       "      <td>KERALA</td>\n",
       "      <td>1902</td>\n",
       "      <td>6.7</td>\n",
       "      <td>2.6</td>\n",
       "      <td>57.3</td>\n",
       "      <td>83.9</td>\n",
       "      <td>134.5</td>\n",
       "      <td>390.9</td>\n",
       "      <td>1205.0</td>\n",
       "      <td>315.8</td>\n",
       "      <td>491.6</td>\n",
       "      <td>358.4</td>\n",
       "      <td>158.3</td>\n",
       "      <td>121.5</td>\n",
       "      <td>3326.6</td>\n",
       "      <td>YES</td>\n",
       "    </tr>\n",
       "    <tr>\n",
       "      <th>2</th>\n",
       "      <td>KERALA</td>\n",
       "      <td>1903</td>\n",
       "      <td>3.2</td>\n",
       "      <td>18.6</td>\n",
       "      <td>3.1</td>\n",
       "      <td>83.6</td>\n",
       "      <td>249.7</td>\n",
       "      <td>558.6</td>\n",
       "      <td>1022.5</td>\n",
       "      <td>420.2</td>\n",
       "      <td>341.8</td>\n",
       "      <td>354.1</td>\n",
       "      <td>157.0</td>\n",
       "      <td>59.0</td>\n",
       "      <td>3271.2</td>\n",
       "      <td>YES</td>\n",
       "    </tr>\n",
       "    <tr>\n",
       "      <th>3</th>\n",
       "      <td>KERALA</td>\n",
       "      <td>1904</td>\n",
       "      <td>23.7</td>\n",
       "      <td>3.0</td>\n",
       "      <td>32.2</td>\n",
       "      <td>71.5</td>\n",
       "      <td>235.7</td>\n",
       "      <td>1098.2</td>\n",
       "      <td>725.5</td>\n",
       "      <td>351.8</td>\n",
       "      <td>222.7</td>\n",
       "      <td>328.1</td>\n",
       "      <td>33.9</td>\n",
       "      <td>3.3</td>\n",
       "      <td>3129.7</td>\n",
       "      <td>YES</td>\n",
       "    </tr>\n",
       "    <tr>\n",
       "      <th>4</th>\n",
       "      <td>KERALA</td>\n",
       "      <td>1905</td>\n",
       "      <td>1.2</td>\n",
       "      <td>22.3</td>\n",
       "      <td>9.4</td>\n",
       "      <td>105.9</td>\n",
       "      <td>263.3</td>\n",
       "      <td>850.2</td>\n",
       "      <td>520.5</td>\n",
       "      <td>293.6</td>\n",
       "      <td>217.2</td>\n",
       "      <td>383.5</td>\n",
       "      <td>74.4</td>\n",
       "      <td>0.2</td>\n",
       "      <td>2741.6</td>\n",
       "      <td>NO</td>\n",
       "    </tr>\n",
       "    <tr>\n",
       "      <th>...</th>\n",
       "      <td>...</td>\n",
       "      <td>...</td>\n",
       "      <td>...</td>\n",
       "      <td>...</td>\n",
       "      <td>...</td>\n",
       "      <td>...</td>\n",
       "      <td>...</td>\n",
       "      <td>...</td>\n",
       "      <td>...</td>\n",
       "      <td>...</td>\n",
       "      <td>...</td>\n",
       "      <td>...</td>\n",
       "      <td>...</td>\n",
       "      <td>...</td>\n",
       "      <td>...</td>\n",
       "      <td>...</td>\n",
       "    </tr>\n",
       "    <tr>\n",
       "      <th>113</th>\n",
       "      <td>KERALA</td>\n",
       "      <td>2014</td>\n",
       "      <td>4.6</td>\n",
       "      <td>10.3</td>\n",
       "      <td>17.9</td>\n",
       "      <td>95.7</td>\n",
       "      <td>251.0</td>\n",
       "      <td>454.4</td>\n",
       "      <td>677.8</td>\n",
       "      <td>733.9</td>\n",
       "      <td>298.8</td>\n",
       "      <td>355.5</td>\n",
       "      <td>99.5</td>\n",
       "      <td>47.2</td>\n",
       "      <td>3046.4</td>\n",
       "      <td>YES</td>\n",
       "    </tr>\n",
       "    <tr>\n",
       "      <th>114</th>\n",
       "      <td>KERALA</td>\n",
       "      <td>2015</td>\n",
       "      <td>3.1</td>\n",
       "      <td>5.8</td>\n",
       "      <td>50.1</td>\n",
       "      <td>214.1</td>\n",
       "      <td>201.8</td>\n",
       "      <td>563.6</td>\n",
       "      <td>406.0</td>\n",
       "      <td>252.2</td>\n",
       "      <td>292.9</td>\n",
       "      <td>308.1</td>\n",
       "      <td>223.6</td>\n",
       "      <td>79.4</td>\n",
       "      <td>2600.6</td>\n",
       "      <td>NO</td>\n",
       "    </tr>\n",
       "    <tr>\n",
       "      <th>115</th>\n",
       "      <td>KERALA</td>\n",
       "      <td>2016</td>\n",
       "      <td>2.4</td>\n",
       "      <td>3.8</td>\n",
       "      <td>35.9</td>\n",
       "      <td>143.0</td>\n",
       "      <td>186.4</td>\n",
       "      <td>522.2</td>\n",
       "      <td>412.3</td>\n",
       "      <td>325.5</td>\n",
       "      <td>173.2</td>\n",
       "      <td>225.9</td>\n",
       "      <td>125.4</td>\n",
       "      <td>23.6</td>\n",
       "      <td>2176.6</td>\n",
       "      <td>NO</td>\n",
       "    </tr>\n",
       "    <tr>\n",
       "      <th>116</th>\n",
       "      <td>KERALA</td>\n",
       "      <td>2017</td>\n",
       "      <td>1.9</td>\n",
       "      <td>6.8</td>\n",
       "      <td>8.9</td>\n",
       "      <td>43.6</td>\n",
       "      <td>173.5</td>\n",
       "      <td>498.5</td>\n",
       "      <td>319.6</td>\n",
       "      <td>531.8</td>\n",
       "      <td>209.5</td>\n",
       "      <td>192.4</td>\n",
       "      <td>92.5</td>\n",
       "      <td>38.1</td>\n",
       "      <td>2117.1</td>\n",
       "      <td>NO</td>\n",
       "    </tr>\n",
       "    <tr>\n",
       "      <th>117</th>\n",
       "      <td>KERALA</td>\n",
       "      <td>2018</td>\n",
       "      <td>29.1</td>\n",
       "      <td>52.1</td>\n",
       "      <td>48.6</td>\n",
       "      <td>116.4</td>\n",
       "      <td>183.8</td>\n",
       "      <td>625.4</td>\n",
       "      <td>1048.5</td>\n",
       "      <td>1398.9</td>\n",
       "      <td>423.6</td>\n",
       "      <td>356.1</td>\n",
       "      <td>125.4</td>\n",
       "      <td>65.1</td>\n",
       "      <td>4473.0</td>\n",
       "      <td>YES</td>\n",
       "    </tr>\n",
       "  </tbody>\n",
       "</table>\n",
       "<p>118 rows × 16 columns</p>\n",
       "</div>"
      ],
      "text/plain": [
       "    SUBDIVISION  YEAR   JAN   FEB   MAR    APR    MAY     JUN     JUL     AUG  \\\n",
       "0        KERALA  1901  28.7  44.7  51.6  160.0  174.7   824.6   743.0   357.5   \n",
       "1        KERALA  1902   6.7   2.6  57.3   83.9  134.5   390.9  1205.0   315.8   \n",
       "2        KERALA  1903   3.2  18.6   3.1   83.6  249.7   558.6  1022.5   420.2   \n",
       "3        KERALA  1904  23.7   3.0  32.2   71.5  235.7  1098.2   725.5   351.8   \n",
       "4        KERALA  1905   1.2  22.3   9.4  105.9  263.3   850.2   520.5   293.6   \n",
       "..          ...   ...   ...   ...   ...    ...    ...     ...     ...     ...   \n",
       "113      KERALA  2014   4.6  10.3  17.9   95.7  251.0   454.4   677.8   733.9   \n",
       "114      KERALA  2015   3.1   5.8  50.1  214.1  201.8   563.6   406.0   252.2   \n",
       "115      KERALA  2016   2.4   3.8  35.9  143.0  186.4   522.2   412.3   325.5   \n",
       "116     KERALA   2017   1.9   6.8   8.9   43.6  173.5   498.5   319.6   531.8   \n",
       "117      KERALA  2018  29.1  52.1  48.6  116.4  183.8   625.4  1048.5  1398.9   \n",
       "\n",
       "       SEP    OCT    NOV    DEC   ANNUAL RAINFALL FLOODS  \n",
       "0    197.7  266.9  350.8   48.4            3248.6    YES  \n",
       "1    491.6  358.4  158.3  121.5            3326.6    YES  \n",
       "2    341.8  354.1  157.0   59.0            3271.2    YES  \n",
       "3    222.7  328.1   33.9    3.3            3129.7    YES  \n",
       "4    217.2  383.5   74.4    0.2            2741.6     NO  \n",
       "..     ...    ...    ...    ...               ...    ...  \n",
       "113  298.8  355.5   99.5   47.2            3046.4    YES  \n",
       "114  292.9  308.1  223.6   79.4            2600.6     NO  \n",
       "115  173.2  225.9  125.4   23.6            2176.6     NO  \n",
       "116  209.5  192.4   92.5   38.1            2117.1     NO  \n",
       "117  423.6  356.1  125.4   65.1            4473.0    YES  \n",
       "\n",
       "[118 rows x 16 columns]"
      ]
     },
     "execution_count": 107,
     "metadata": {},
     "output_type": "execute_result"
    }
   ],
   "source": [
    "# importing dataset \n",
    "\n",
    "ds = pd.read_csv('kerala.csv')\n",
    "ds"
   ]
  },
  {
   "cell_type": "code",
   "execution_count": 108,
   "id": "bfcd1611",
   "metadata": {},
   "outputs": [
    {
     "data": {
      "text/plain": [
       "SUBDIVISION         0\n",
       "YEAR                0\n",
       "JAN                 0\n",
       "FEB                 0\n",
       "MAR                 0\n",
       "APR                 0\n",
       "MAY                 0\n",
       "JUN                 0\n",
       "JUL                 0\n",
       "AUG                 0\n",
       "SEP                 0\n",
       "OCT                 0\n",
       "NOV                 0\n",
       "DEC                 0\n",
       " ANNUAL RAINFALL    0\n",
       "FLOODS              0\n",
       "dtype: int64"
      ]
     },
     "execution_count": 108,
     "metadata": {},
     "output_type": "execute_result"
    }
   ],
   "source": [
    "# checking for null value\n",
    "\n",
    "ds.isnull().sum()"
   ]
  },
  {
   "cell_type": "code",
   "execution_count": 109,
   "id": "8b06130f",
   "metadata": {},
   "outputs": [],
   "source": [
    "# splitting dataset into feature data and target data\n",
    "\n",
    "x = ds.iloc[:,2:15]\n",
    "y = ds.iloc[:,-1]"
   ]
  },
  {
   "cell_type": "code",
   "execution_count": 110,
   "id": "246eeade",
   "metadata": {},
   "outputs": [
    {
     "data": {
      "text/html": [
       "<div>\n",
       "<style scoped>\n",
       "    .dataframe tbody tr th:only-of-type {\n",
       "        vertical-align: middle;\n",
       "    }\n",
       "\n",
       "    .dataframe tbody tr th {\n",
       "        vertical-align: top;\n",
       "    }\n",
       "\n",
       "    .dataframe thead th {\n",
       "        text-align: right;\n",
       "    }\n",
       "</style>\n",
       "<table border=\"1\" class=\"dataframe\">\n",
       "  <thead>\n",
       "    <tr style=\"text-align: right;\">\n",
       "      <th></th>\n",
       "      <th>JAN</th>\n",
       "      <th>FEB</th>\n",
       "      <th>MAR</th>\n",
       "      <th>APR</th>\n",
       "      <th>MAY</th>\n",
       "      <th>JUN</th>\n",
       "      <th>JUL</th>\n",
       "      <th>AUG</th>\n",
       "      <th>SEP</th>\n",
       "      <th>OCT</th>\n",
       "      <th>NOV</th>\n",
       "      <th>DEC</th>\n",
       "      <th>ANNUAL RAINFALL</th>\n",
       "    </tr>\n",
       "  </thead>\n",
       "  <tbody>\n",
       "    <tr>\n",
       "      <th>0</th>\n",
       "      <td>28.7</td>\n",
       "      <td>44.7</td>\n",
       "      <td>51.6</td>\n",
       "      <td>160.0</td>\n",
       "      <td>174.7</td>\n",
       "      <td>824.6</td>\n",
       "      <td>743.0</td>\n",
       "      <td>357.5</td>\n",
       "      <td>197.7</td>\n",
       "      <td>266.9</td>\n",
       "      <td>350.8</td>\n",
       "      <td>48.4</td>\n",
       "      <td>3248.6</td>\n",
       "    </tr>\n",
       "    <tr>\n",
       "      <th>1</th>\n",
       "      <td>6.7</td>\n",
       "      <td>2.6</td>\n",
       "      <td>57.3</td>\n",
       "      <td>83.9</td>\n",
       "      <td>134.5</td>\n",
       "      <td>390.9</td>\n",
       "      <td>1205.0</td>\n",
       "      <td>315.8</td>\n",
       "      <td>491.6</td>\n",
       "      <td>358.4</td>\n",
       "      <td>158.3</td>\n",
       "      <td>121.5</td>\n",
       "      <td>3326.6</td>\n",
       "    </tr>\n",
       "    <tr>\n",
       "      <th>2</th>\n",
       "      <td>3.2</td>\n",
       "      <td>18.6</td>\n",
       "      <td>3.1</td>\n",
       "      <td>83.6</td>\n",
       "      <td>249.7</td>\n",
       "      <td>558.6</td>\n",
       "      <td>1022.5</td>\n",
       "      <td>420.2</td>\n",
       "      <td>341.8</td>\n",
       "      <td>354.1</td>\n",
       "      <td>157.0</td>\n",
       "      <td>59.0</td>\n",
       "      <td>3271.2</td>\n",
       "    </tr>\n",
       "    <tr>\n",
       "      <th>3</th>\n",
       "      <td>23.7</td>\n",
       "      <td>3.0</td>\n",
       "      <td>32.2</td>\n",
       "      <td>71.5</td>\n",
       "      <td>235.7</td>\n",
       "      <td>1098.2</td>\n",
       "      <td>725.5</td>\n",
       "      <td>351.8</td>\n",
       "      <td>222.7</td>\n",
       "      <td>328.1</td>\n",
       "      <td>33.9</td>\n",
       "      <td>3.3</td>\n",
       "      <td>3129.7</td>\n",
       "    </tr>\n",
       "    <tr>\n",
       "      <th>4</th>\n",
       "      <td>1.2</td>\n",
       "      <td>22.3</td>\n",
       "      <td>9.4</td>\n",
       "      <td>105.9</td>\n",
       "      <td>263.3</td>\n",
       "      <td>850.2</td>\n",
       "      <td>520.5</td>\n",
       "      <td>293.6</td>\n",
       "      <td>217.2</td>\n",
       "      <td>383.5</td>\n",
       "      <td>74.4</td>\n",
       "      <td>0.2</td>\n",
       "      <td>2741.6</td>\n",
       "    </tr>\n",
       "    <tr>\n",
       "      <th>...</th>\n",
       "      <td>...</td>\n",
       "      <td>...</td>\n",
       "      <td>...</td>\n",
       "      <td>...</td>\n",
       "      <td>...</td>\n",
       "      <td>...</td>\n",
       "      <td>...</td>\n",
       "      <td>...</td>\n",
       "      <td>...</td>\n",
       "      <td>...</td>\n",
       "      <td>...</td>\n",
       "      <td>...</td>\n",
       "      <td>...</td>\n",
       "    </tr>\n",
       "    <tr>\n",
       "      <th>113</th>\n",
       "      <td>4.6</td>\n",
       "      <td>10.3</td>\n",
       "      <td>17.9</td>\n",
       "      <td>95.7</td>\n",
       "      <td>251.0</td>\n",
       "      <td>454.4</td>\n",
       "      <td>677.8</td>\n",
       "      <td>733.9</td>\n",
       "      <td>298.8</td>\n",
       "      <td>355.5</td>\n",
       "      <td>99.5</td>\n",
       "      <td>47.2</td>\n",
       "      <td>3046.4</td>\n",
       "    </tr>\n",
       "    <tr>\n",
       "      <th>114</th>\n",
       "      <td>3.1</td>\n",
       "      <td>5.8</td>\n",
       "      <td>50.1</td>\n",
       "      <td>214.1</td>\n",
       "      <td>201.8</td>\n",
       "      <td>563.6</td>\n",
       "      <td>406.0</td>\n",
       "      <td>252.2</td>\n",
       "      <td>292.9</td>\n",
       "      <td>308.1</td>\n",
       "      <td>223.6</td>\n",
       "      <td>79.4</td>\n",
       "      <td>2600.6</td>\n",
       "    </tr>\n",
       "    <tr>\n",
       "      <th>115</th>\n",
       "      <td>2.4</td>\n",
       "      <td>3.8</td>\n",
       "      <td>35.9</td>\n",
       "      <td>143.0</td>\n",
       "      <td>186.4</td>\n",
       "      <td>522.2</td>\n",
       "      <td>412.3</td>\n",
       "      <td>325.5</td>\n",
       "      <td>173.2</td>\n",
       "      <td>225.9</td>\n",
       "      <td>125.4</td>\n",
       "      <td>23.6</td>\n",
       "      <td>2176.6</td>\n",
       "    </tr>\n",
       "    <tr>\n",
       "      <th>116</th>\n",
       "      <td>1.9</td>\n",
       "      <td>6.8</td>\n",
       "      <td>8.9</td>\n",
       "      <td>43.6</td>\n",
       "      <td>173.5</td>\n",
       "      <td>498.5</td>\n",
       "      <td>319.6</td>\n",
       "      <td>531.8</td>\n",
       "      <td>209.5</td>\n",
       "      <td>192.4</td>\n",
       "      <td>92.5</td>\n",
       "      <td>38.1</td>\n",
       "      <td>2117.1</td>\n",
       "    </tr>\n",
       "    <tr>\n",
       "      <th>117</th>\n",
       "      <td>29.1</td>\n",
       "      <td>52.1</td>\n",
       "      <td>48.6</td>\n",
       "      <td>116.4</td>\n",
       "      <td>183.8</td>\n",
       "      <td>625.4</td>\n",
       "      <td>1048.5</td>\n",
       "      <td>1398.9</td>\n",
       "      <td>423.6</td>\n",
       "      <td>356.1</td>\n",
       "      <td>125.4</td>\n",
       "      <td>65.1</td>\n",
       "      <td>4473.0</td>\n",
       "    </tr>\n",
       "  </tbody>\n",
       "</table>\n",
       "<p>118 rows × 13 columns</p>\n",
       "</div>"
      ],
      "text/plain": [
       "      JAN   FEB   MAR    APR    MAY     JUN     JUL     AUG    SEP    OCT  \\\n",
       "0    28.7  44.7  51.6  160.0  174.7   824.6   743.0   357.5  197.7  266.9   \n",
       "1     6.7   2.6  57.3   83.9  134.5   390.9  1205.0   315.8  491.6  358.4   \n",
       "2     3.2  18.6   3.1   83.6  249.7   558.6  1022.5   420.2  341.8  354.1   \n",
       "3    23.7   3.0  32.2   71.5  235.7  1098.2   725.5   351.8  222.7  328.1   \n",
       "4     1.2  22.3   9.4  105.9  263.3   850.2   520.5   293.6  217.2  383.5   \n",
       "..    ...   ...   ...    ...    ...     ...     ...     ...    ...    ...   \n",
       "113   4.6  10.3  17.9   95.7  251.0   454.4   677.8   733.9  298.8  355.5   \n",
       "114   3.1   5.8  50.1  214.1  201.8   563.6   406.0   252.2  292.9  308.1   \n",
       "115   2.4   3.8  35.9  143.0  186.4   522.2   412.3   325.5  173.2  225.9   \n",
       "116   1.9   6.8   8.9   43.6  173.5   498.5   319.6   531.8  209.5  192.4   \n",
       "117  29.1  52.1  48.6  116.4  183.8   625.4  1048.5  1398.9  423.6  356.1   \n",
       "\n",
       "       NOV    DEC   ANNUAL RAINFALL  \n",
       "0    350.8   48.4            3248.6  \n",
       "1    158.3  121.5            3326.6  \n",
       "2    157.0   59.0            3271.2  \n",
       "3     33.9    3.3            3129.7  \n",
       "4     74.4    0.2            2741.6  \n",
       "..     ...    ...               ...  \n",
       "113   99.5   47.2            3046.4  \n",
       "114  223.6   79.4            2600.6  \n",
       "115  125.4   23.6            2176.6  \n",
       "116   92.5   38.1            2117.1  \n",
       "117  125.4   65.1            4473.0  \n",
       "\n",
       "[118 rows x 13 columns]"
      ]
     },
     "execution_count": 110,
     "metadata": {},
     "output_type": "execute_result"
    }
   ],
   "source": [
    "x"
   ]
  },
  {
   "cell_type": "code",
   "execution_count": 111,
   "id": "13655225",
   "metadata": {
    "scrolled": true
   },
   "outputs": [
    {
     "data": {
      "text/plain": [
       "0      YES\n",
       "1      YES\n",
       "2      YES\n",
       "3      YES\n",
       "4       NO\n",
       "      ... \n",
       "113    YES\n",
       "114     NO\n",
       "115     NO\n",
       "116     NO\n",
       "117    YES\n",
       "Name: FLOODS, Length: 118, dtype: object"
      ]
     },
     "execution_count": 111,
     "metadata": {},
     "output_type": "execute_result"
    }
   ],
   "source": [
    "y"
   ]
  },
  {
   "cell_type": "code",
   "execution_count": 112,
   "id": "0e157164",
   "metadata": {},
   "outputs": [
    {
     "data": {
      "text/html": [
       "<div>\n",
       "<style scoped>\n",
       "    .dataframe tbody tr th:only-of-type {\n",
       "        vertical-align: middle;\n",
       "    }\n",
       "\n",
       "    .dataframe tbody tr th {\n",
       "        vertical-align: top;\n",
       "    }\n",
       "\n",
       "    .dataframe thead th {\n",
       "        text-align: right;\n",
       "    }\n",
       "</style>\n",
       "<table border=\"1\" class=\"dataframe\">\n",
       "  <thead>\n",
       "    <tr style=\"text-align: right;\">\n",
       "      <th></th>\n",
       "      <th>YEAR</th>\n",
       "      <th>JAN</th>\n",
       "      <th>FEB</th>\n",
       "      <th>MAR</th>\n",
       "      <th>APR</th>\n",
       "      <th>MAY</th>\n",
       "      <th>JUN</th>\n",
       "      <th>JUL</th>\n",
       "      <th>AUG</th>\n",
       "      <th>SEP</th>\n",
       "      <th>OCT</th>\n",
       "      <th>NOV</th>\n",
       "      <th>DEC</th>\n",
       "      <th>ANNUAL RAINFALL</th>\n",
       "    </tr>\n",
       "  </thead>\n",
       "  <tbody>\n",
       "    <tr>\n",
       "      <th>count</th>\n",
       "      <td>118.000000</td>\n",
       "      <td>118.000000</td>\n",
       "      <td>118.000000</td>\n",
       "      <td>118.000000</td>\n",
       "      <td>118.000000</td>\n",
       "      <td>118.000000</td>\n",
       "      <td>118.000000</td>\n",
       "      <td>118.000000</td>\n",
       "      <td>118.000000</td>\n",
       "      <td>118.000000</td>\n",
       "      <td>118.000000</td>\n",
       "      <td>118.000000</td>\n",
       "      <td>118.000000</td>\n",
       "      <td>118.000000</td>\n",
       "    </tr>\n",
       "    <tr>\n",
       "      <th>mean</th>\n",
       "      <td>1959.500000</td>\n",
       "      <td>12.218644</td>\n",
       "      <td>15.633898</td>\n",
       "      <td>36.670339</td>\n",
       "      <td>110.330508</td>\n",
       "      <td>228.644915</td>\n",
       "      <td>651.617797</td>\n",
       "      <td>698.220339</td>\n",
       "      <td>430.369492</td>\n",
       "      <td>246.207627</td>\n",
       "      <td>293.207627</td>\n",
       "      <td>162.311017</td>\n",
       "      <td>40.009322</td>\n",
       "      <td>2925.405085</td>\n",
       "    </tr>\n",
       "    <tr>\n",
       "      <th>std</th>\n",
       "      <td>34.207699</td>\n",
       "      <td>15.473766</td>\n",
       "      <td>16.406290</td>\n",
       "      <td>30.063862</td>\n",
       "      <td>44.633452</td>\n",
       "      <td>147.548778</td>\n",
       "      <td>186.181363</td>\n",
       "      <td>228.988966</td>\n",
       "      <td>181.980463</td>\n",
       "      <td>121.901131</td>\n",
       "      <td>93.705253</td>\n",
       "      <td>83.200485</td>\n",
       "      <td>36.676330</td>\n",
       "      <td>452.169407</td>\n",
       "    </tr>\n",
       "    <tr>\n",
       "      <th>min</th>\n",
       "      <td>1901.000000</td>\n",
       "      <td>0.000000</td>\n",
       "      <td>0.000000</td>\n",
       "      <td>0.100000</td>\n",
       "      <td>13.100000</td>\n",
       "      <td>53.400000</td>\n",
       "      <td>196.800000</td>\n",
       "      <td>167.500000</td>\n",
       "      <td>178.600000</td>\n",
       "      <td>41.300000</td>\n",
       "      <td>68.500000</td>\n",
       "      <td>31.500000</td>\n",
       "      <td>0.100000</td>\n",
       "      <td>2068.800000</td>\n",
       "    </tr>\n",
       "    <tr>\n",
       "      <th>25%</th>\n",
       "      <td>1930.250000</td>\n",
       "      <td>2.175000</td>\n",
       "      <td>4.700000</td>\n",
       "      <td>18.100000</td>\n",
       "      <td>74.350000</td>\n",
       "      <td>125.050000</td>\n",
       "      <td>535.550000</td>\n",
       "      <td>533.200000</td>\n",
       "      <td>316.725000</td>\n",
       "      <td>155.425000</td>\n",
       "      <td>222.125000</td>\n",
       "      <td>93.025000</td>\n",
       "      <td>10.350000</td>\n",
       "      <td>2613.525000</td>\n",
       "    </tr>\n",
       "    <tr>\n",
       "      <th>50%</th>\n",
       "      <td>1959.500000</td>\n",
       "      <td>5.800000</td>\n",
       "      <td>8.350000</td>\n",
       "      <td>28.400000</td>\n",
       "      <td>110.400000</td>\n",
       "      <td>184.600000</td>\n",
       "      <td>625.600000</td>\n",
       "      <td>691.650000</td>\n",
       "      <td>386.250000</td>\n",
       "      <td>223.550000</td>\n",
       "      <td>284.300000</td>\n",
       "      <td>152.450000</td>\n",
       "      <td>31.100000</td>\n",
       "      <td>2934.300000</td>\n",
       "    </tr>\n",
       "    <tr>\n",
       "      <th>75%</th>\n",
       "      <td>1988.750000</td>\n",
       "      <td>18.175000</td>\n",
       "      <td>21.400000</td>\n",
       "      <td>49.825000</td>\n",
       "      <td>136.450000</td>\n",
       "      <td>264.875000</td>\n",
       "      <td>786.975000</td>\n",
       "      <td>832.425000</td>\n",
       "      <td>500.100000</td>\n",
       "      <td>334.500000</td>\n",
       "      <td>355.150000</td>\n",
       "      <td>218.325000</td>\n",
       "      <td>54.025000</td>\n",
       "      <td>3170.400000</td>\n",
       "    </tr>\n",
       "    <tr>\n",
       "      <th>max</th>\n",
       "      <td>2018.000000</td>\n",
       "      <td>83.500000</td>\n",
       "      <td>79.000000</td>\n",
       "      <td>217.200000</td>\n",
       "      <td>238.000000</td>\n",
       "      <td>738.800000</td>\n",
       "      <td>1098.200000</td>\n",
       "      <td>1526.500000</td>\n",
       "      <td>1398.900000</td>\n",
       "      <td>526.700000</td>\n",
       "      <td>567.900000</td>\n",
       "      <td>365.600000</td>\n",
       "      <td>202.300000</td>\n",
       "      <td>4473.000000</td>\n",
       "    </tr>\n",
       "  </tbody>\n",
       "</table>\n",
       "</div>"
      ],
      "text/plain": [
       "              YEAR         JAN         FEB         MAR         APR  \\\n",
       "count   118.000000  118.000000  118.000000  118.000000  118.000000   \n",
       "mean   1959.500000   12.218644   15.633898   36.670339  110.330508   \n",
       "std      34.207699   15.473766   16.406290   30.063862   44.633452   \n",
       "min    1901.000000    0.000000    0.000000    0.100000   13.100000   \n",
       "25%    1930.250000    2.175000    4.700000   18.100000   74.350000   \n",
       "50%    1959.500000    5.800000    8.350000   28.400000  110.400000   \n",
       "75%    1988.750000   18.175000   21.400000   49.825000  136.450000   \n",
       "max    2018.000000   83.500000   79.000000  217.200000  238.000000   \n",
       "\n",
       "              MAY          JUN          JUL          AUG         SEP  \\\n",
       "count  118.000000   118.000000   118.000000   118.000000  118.000000   \n",
       "mean   228.644915   651.617797   698.220339   430.369492  246.207627   \n",
       "std    147.548778   186.181363   228.988966   181.980463  121.901131   \n",
       "min     53.400000   196.800000   167.500000   178.600000   41.300000   \n",
       "25%    125.050000   535.550000   533.200000   316.725000  155.425000   \n",
       "50%    184.600000   625.600000   691.650000   386.250000  223.550000   \n",
       "75%    264.875000   786.975000   832.425000   500.100000  334.500000   \n",
       "max    738.800000  1098.200000  1526.500000  1398.900000  526.700000   \n",
       "\n",
       "              OCT         NOV         DEC   ANNUAL RAINFALL  \n",
       "count  118.000000  118.000000  118.000000        118.000000  \n",
       "mean   293.207627  162.311017   40.009322       2925.405085  \n",
       "std     93.705253   83.200485   36.676330        452.169407  \n",
       "min     68.500000   31.500000    0.100000       2068.800000  \n",
       "25%    222.125000   93.025000   10.350000       2613.525000  \n",
       "50%    284.300000  152.450000   31.100000       2934.300000  \n",
       "75%    355.150000  218.325000   54.025000       3170.400000  \n",
       "max    567.900000  365.600000  202.300000       4473.000000  "
      ]
     },
     "execution_count": 112,
     "metadata": {},
     "output_type": "execute_result"
    }
   ],
   "source": [
    "ds.describe()"
   ]
  },
  {
   "cell_type": "code",
   "execution_count": 113,
   "id": "7da7b0f2",
   "metadata": {
    "scrolled": false
   },
   "outputs": [
    {
     "data": {
      "image/png": "[encoded data removed]",
      "text/plain": [
       "<Figure size 864x576 with 1 Axes>"
      ]
     },
     "metadata": {
      "needs_background": "light"
     },
     "output_type": "display_data"
    }
   ],
   "source": [
    "ds.describe().plot(kind = 'area',figsize=(12,8))\n",
    "plt.xlabel('statisticvs')\n",
    "plt.ylabel('values')\n",
    "plt.show()"
   ]
  },
  {
   "cell_type": "code",
   "execution_count": 114,
   "id": "443b1f2e",
   "metadata": {},
   "outputs": [
    {
     "data": {
      "text/plain": [
       "<AxesSubplot:ylabel='FLOODS'>"
      ]
     },
     "execution_count": 114,
     "metadata": {},
     "output_type": "execute_result"
    },
    {
     "data": {
      "image/png": "[encoded data removed]",
      "text/plain": [
       "<Figure size 432x288 with 1 Axes>"
      ]
     },
     "metadata": {},
     "output_type": "display_data"
    }
   ],
   "source": [
    "y.value_counts().plot.pie(autopct='%1.1f%%',shadow=True)"
   ]
  },
  {
   "cell_type": "code",
   "execution_count": 115,
   "id": "0e46e33c",
   "metadata": {},
   "outputs": [
    {
     "data": {
      "text/plain": [
       "<matplotlib.collections.PathCollection at 0x7ff6381cc4c0>"
      ]
     },
     "execution_count": 115,
     "metadata": {},
     "output_type": "execute_result"
    },
    {
     "data": {
      "image/png": "[encoded data removed]",
      "text/plain": [
       "<Figure size 864x576 with 1 Axes>"
      ]
     },
     "metadata": {
      "needs_background": "light"
     },
     "output_type": "display_data"
    }
   ],
   "source": [
    "plt.figure(figsize=(12,8))\n",
    "plt.scatter(x[' ANNUAL RAINFALL'],y)"
   ]
  },
  {
   "cell_type": "code",
   "execution_count": 116,
   "id": "864e38fe",
   "metadata": {
    "scrolled": false
   },
   "outputs": [
    {
     "data": {
      "text/plain": [
       "<matplotlib.collections.PathCollection at 0x7ff65b53de50>"
      ]
     },
     "execution_count": 116,
     "metadata": {},
     "output_type": "execute_result"
    },
    {
     "data": {
      "image/png": "[encoded data removed]",
      "text/plain": [
       "<Figure size 864x576 with 1 Axes>"
      ]
     },
     "metadata": {
      "needs_background": "light"
     },
     "output_type": "display_data"
    }
   ],
   "source": [
    "plt.figure(figsize=(12,8))\n",
    "plt.scatter(ds['YEAR'],x[' ANNUAL RAINFALL'])"
   ]
  },
  {
   "cell_type": "code",
   "execution_count": 117,
   "id": "121c73b1",
   "metadata": {},
   "outputs": [
    {
     "data": {
      "text/plain": [
       "<AxesSubplot:>"
      ]
     },
     "execution_count": 117,
     "metadata": {},
     "output_type": "execute_result"
    },
    {
     "data": {
      "image/png": "[encoded data removed]",
      "text/plain": [
       "<Figure size 432x288 with 2 Axes>"
      ]
     },
     "metadata": {
      "needs_background": "light"
     },
     "output_type": "display_data"
    }
   ],
   "source": [
    "sns.heatmap(x.corr())"
   ]
  },
  {
   "cell_type": "code",
   "execution_count": 118,
   "id": "08c46010",
   "metadata": {
    "scrolled": false
   },
   "outputs": [
    {
     "name": "stderr",
     "output_type": "stream",
     "text": [
      "/Users/swapnendulet/opt/anaconda3/lib/python3.9/site-packages/seaborn/_decorators.py:36: FutureWarning: Pass the following variables as keyword args: x, y. From version 0.12, the only valid positional argument will be `data`, and passing other arguments without an explicit keyword will result in an error or misinterpretation.\n",
      "  warnings.warn(\n"
     ]
    },
    {
     "data": {
      "text/plain": [
       "<AxesSubplot:xlabel=' ANNUAL RAINFALL', ylabel='FLOODS'>"
      ]
     },
     "execution_count": 118,
     "metadata": {},
     "output_type": "execute_result"
    },
    {
     "data": {
      "image/png": "[encoded data removed]",
      "text/plain": [
       "<Figure size 720x576 with 1 Axes>"
      ]
     },
     "metadata": {
      "needs_background": "light"
     },
     "output_type": "display_data"
    }
   ],
   "source": [
    "plt.figure(figsize = (10,8))\n",
    "sns.barplot(x[' ANNUAL RAINFALL'],y)"
   ]
  },
  {
   "cell_type": "code",
   "execution_count": 119,
   "id": "803f6278",
   "metadata": {},
   "outputs": [
    {
     "data": {
      "text/plain": [
       "<AxesSubplot:ylabel='Count'>"
      ]
     },
     "execution_count": 119,
     "metadata": {},
     "output_type": "execute_result"
    },
    {
     "data": {
      "image/png": "[encoded data removed]",
      "text/plain": [
       "<Figure size 720x576 with 1 Axes>"
      ]
     },
     "metadata": {
      "needs_background": "light"
     },
     "output_type": "display_data"
    }
   ],
   "source": [
    "#checking for the feture data follows normal distribution\n",
    "\n",
    "plt.figure(figsize = (10,8))\n",
    "sns.histplot(x)"
   ]
  },
  {
   "cell_type": "code",
   "execution_count": 120,
   "id": "0b77d753",
   "metadata": {},
   "outputs": [
    {
     "data": {
      "text/plain": [
       "array([[ 1.06965812,  1.77919877,  0.49871595, ...,  2.27514032,\n",
       "         0.22975198,  0.71781316],\n",
       "       [-0.35816607, -0.79783302,  0.68912087, ..., -0.04841464,\n",
       "         2.23136253,  0.8910505 ],\n",
       "       [-0.58531992,  0.18156148, -1.12139608, ..., -0.06410618,\n",
       "         0.5199992 ,  0.76800757],\n",
       "       ...,\n",
       "       [-0.6372408 , -0.72437844, -0.02573269, ..., -0.44553131,\n",
       "        -0.44931699, -1.66308973],\n",
       "       [-0.66969135, -0.54074197, -0.92765073, ..., -0.84264797,\n",
       "        -0.0522807 , -1.79523873],\n",
       "       [ 1.09561856,  2.23216872,  0.39850283, ..., -0.44553131,\n",
       "         0.68702826,  3.43719516]])"
      ]
     },
     "execution_count": 120,
     "metadata": {},
     "output_type": "execute_result"
    }
   ],
   "source": [
    "# preprocessong with Standard scale\n",
    "\n",
    "x = StandardScaler().fit_transform(x)\n",
    "x"
   ]
  },
  {
   "cell_type": "code",
   "execution_count": 121,
   "id": "5ead43c8",
   "metadata": {
    "scrolled": true
   },
   "outputs": [
    {
     "data": {
      "text/plain": [
       "<AxesSubplot:ylabel='Count'>"
      ]
     },
     "execution_count": 121,
     "metadata": {},
     "output_type": "execute_result"
    },
    {
     "data": {
      "image/png": "[encoded data removed]",
      "text/plain": [
       "<Figure size 720x576 with 1 Axes>"
      ]
     },
     "metadata": {
      "needs_background": "light"
     },
     "output_type": "display_data"
    }
   ],
   "source": [
    "plt.figure(figsize = (10,8))\n",
    "sns.histplot(x)"
   ]
  },
  {
   "cell_type": "code",
   "execution_count": 125,
   "id": "a3bf7cf2",
   "metadata": {},
   "outputs": [
    {
     "data": {
      "text/html": [
       "<div>\n",
       "<style scoped>\n",
       "    .dataframe tbody tr th:only-of-type {\n",
       "        vertical-align: middle;\n",
       "    }\n",
       "\n",
       "    .dataframe tbody tr th {\n",
       "        vertical-align: top;\n",
       "    }\n",
       "\n",
       "    .dataframe thead th {\n",
       "        text-align: right;\n",
       "    }\n",
       "</style>\n",
       "<table border=\"1\" class=\"dataframe\">\n",
       "  <thead>\n",
       "    <tr style=\"text-align: right;\">\n",
       "      <th></th>\n",
       "      <th>ANNUAL RAINFALL</th>\n",
       "    </tr>\n",
       "  </thead>\n",
       "  <tbody>\n",
       "    <tr>\n",
       "      <th>0</th>\n",
       "      <td>3248.6</td>\n",
       "    </tr>\n",
       "    <tr>\n",
       "      <th>1</th>\n",
       "      <td>3326.6</td>\n",
       "    </tr>\n",
       "    <tr>\n",
       "      <th>2</th>\n",
       "      <td>3271.2</td>\n",
       "    </tr>\n",
       "    <tr>\n",
       "      <th>3</th>\n",
       "      <td>3129.7</td>\n",
       "    </tr>\n",
       "    <tr>\n",
       "      <th>4</th>\n",
       "      <td>2741.6</td>\n",
       "    </tr>\n",
       "    <tr>\n",
       "      <th>...</th>\n",
       "      <td>...</td>\n",
       "    </tr>\n",
       "    <tr>\n",
       "      <th>113</th>\n",
       "      <td>3046.4</td>\n",
       "    </tr>\n",
       "    <tr>\n",
       "      <th>114</th>\n",
       "      <td>2600.6</td>\n",
       "    </tr>\n",
       "    <tr>\n",
       "      <th>115</th>\n",
       "      <td>2176.6</td>\n",
       "    </tr>\n",
       "    <tr>\n",
       "      <th>116</th>\n",
       "      <td>2117.1</td>\n",
       "    </tr>\n",
       "    <tr>\n",
       "      <th>117</th>\n",
       "      <td>4473.0</td>\n",
       "    </tr>\n",
       "  </tbody>\n",
       "</table>\n",
       "<p>118 rows × 1 columns</p>\n",
       "</div>"
      ],
      "text/plain": [
       "      ANNUAL RAINFALL\n",
       "0              3248.6\n",
       "1              3326.6\n",
       "2              3271.2\n",
       "3              3129.7\n",
       "4              2741.6\n",
       "..                ...\n",
       "113            3046.4\n",
       "114            2600.6\n",
       "115            2176.6\n",
       "116            2117.1\n",
       "117            4473.0\n",
       "\n",
       "[118 rows x 1 columns]"
      ]
     },
     "execution_count": 125,
     "metadata": {},
     "output_type": "execute_result"
    }
   ],
   "source": [
    "x_lite = ds.iloc[:,-2]\n",
    "x_lite = pd.DataFrame(x_lite)\n",
    "x_lite"
   ]
  },
  {
   "cell_type": "code",
   "execution_count": 128,
   "id": "515f8098",
   "metadata": {},
   "outputs": [],
   "source": [
    "# train test split and taking ANNUAL RAINFALL as FEATURE DATA\n",
    "x_train,x_test,y_train,y_test = train_test_split(x,y,test_size=0.3,random_state=1)"
   ]
  },
  {
   "cell_type": "code",
   "execution_count": 129,
   "id": "15e95284",
   "metadata": {},
   "outputs": [
    {
     "data": {
      "text/plain": [
       "LogisticRegression()"
      ]
     },
     "execution_count": 129,
     "metadata": {},
     "output_type": "execute_result"
    }
   ],
   "source": [
    "# Logistic regresstion\n",
    "\n",
    "log_reg = LogisticRegression()\n",
    "log_reg.fit(x_train,y_train)"
   ]
  },
  {
   "cell_type": "code",
   "execution_count": 132,
   "id": "3a2825f3",
   "metadata": {},
   "outputs": [
    {
     "data": {
      "text/plain": [
       "array(['NO', 'YES', 'YES', 'NO', 'YES', 'YES', 'YES', 'YES', 'NO', 'YES',\n",
       "       'YES', 'NO', 'YES', 'YES', 'NO', 'YES', 'YES', 'NO', 'YES', 'NO',\n",
       "       'NO', 'NO', 'NO', 'YES', 'NO', 'NO', 'YES', 'NO', 'NO', 'YES',\n",
       "       'NO', 'YES', 'YES', 'NO', 'NO', 'YES'], dtype=object)"
      ]
     },
     "execution_count": 132,
     "metadata": {},
     "output_type": "execute_result"
    }
   ],
   "source": [
    "pred = log_reg.predict(x_test)\n",
    "pred"
   ]
  },
  {
   "cell_type": "code",
   "execution_count": 175,
   "id": "55180c0c",
   "metadata": {},
   "outputs": [
    {
     "data": {
      "text/plain": [
       "97.22222222222221"
      ]
     },
     "execution_count": 175,
     "metadata": {},
     "output_type": "execute_result"
    }
   ],
   "source": [
    "acc = accuracy_score(y_test,pred)\n",
    "acc * 100"
   ]
  },
  {
   "cell_type": "code",
   "execution_count": 176,
   "id": "080496df",
   "metadata": {
    "scrolled": true
   },
   "outputs": [
    {
     "data": {
      "text/plain": [
       "[<matplotlib.lines.Line2D at 0x7ff62e930100>]"
      ]
     },
     "execution_count": 176,
     "metadata": {},
     "output_type": "execute_result"
    },
    {
     "data": {
      "image/png": "[encoded data removed]",
      "text/plain": [
       "<Figure size 432x288 with 1 Axes>"
      ]
     },
     "metadata": {
      "needs_background": "light"
     },
     "output_type": "display_data"
    }
   ],
   "source": [
    "plt.plot(pred)"
   ]
  },
  {
   "cell_type": "code",
   "execution_count": 177,
   "id": "ce7e643b",
   "metadata": {},
   "outputs": [
    {
     "data": {
      "text/plain": [
       "array([[ 1.06965812,  1.77919877,  0.49871595, ...,  2.27514032,\n",
       "         0.22975198,  0.71781316],\n",
       "       [-0.35816607, -0.79783302,  0.68912087, ..., -0.04841464,\n",
       "         2.23136253,  0.8910505 ],\n",
       "       [-0.58531992,  0.18156148, -1.12139608, ..., -0.06410618,\n",
       "         0.5199992 ,  0.76800757],\n",
       "       ...,\n",
       "       [-0.6372408 , -0.72437844, -0.02573269, ..., -0.44553131,\n",
       "        -0.44931699, -1.66308973],\n",
       "       [-0.66969135, -0.54074197, -0.92765073, ..., -0.84264797,\n",
       "        -0.0522807 , -1.79523873],\n",
       "       [ 1.09561856,  2.23216872,  0.39850283, ..., -0.44553131,\n",
       "         0.68702826,  3.43719516]])"
      ]
     },
     "execution_count": 177,
     "metadata": {},
     "output_type": "execute_result"
    }
   ],
   "source": [
    "x"
   ]
  },
  {
   "cell_type": "code",
   "execution_count": null,
   "id": "1e67ac0e",
   "metadata": {},
   "outputs": [],
   "source": []
  }
 ],
 "metadata": {
  "kernelspec": {
   "display_name": "Python 3 (ipykernel)",
   "language": "python",
   "name": "python3"
  },
  "language_info": {
   "codemirror_mode": {
    "name": "ipython",
    "version": 3
   },
   "file_extension": ".py",
   "mimetype": "text/x-python",
   "name": "python",
   "nbconvert_exporter": "python",
   "pygments_lexer": "ipython3",
   "version": "3.9.7"
  }
 },
 "nbformat": 4,
 "nbformat_minor": 5
}
